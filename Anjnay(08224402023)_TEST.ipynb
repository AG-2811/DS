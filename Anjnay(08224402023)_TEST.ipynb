{
 "cells": [
  {
   "cell_type": "code",
   "execution_count": 7,
   "id": "36b8c24b-6e40-4865-9b69-b135aacece1c",
   "metadata": {},
   "outputs": [
    {
     "name": "stdout",
     "output_type": "stream",
     "text": [
      "New_list:  [1, 5, 3]\n"
     ]
    },
    {
     "ename": "TypeError",
     "evalue": "'tuple' object does not support item assignment",
     "output_type": "error",
     "traceback": [
      "\u001b[1;31m---------------------------------------------------------------------------\u001b[0m",
      "\u001b[1;31mTypeError\u001b[0m                                 Traceback (most recent call last)",
      "Cell \u001b[1;32mIn[7], line 7\u001b[0m\n\u001b[0;32m      5\u001b[0m \u001b[38;5;28mprint\u001b[39m(\u001b[38;5;124m'\u001b[39m\u001b[38;5;124mNew_list: \u001b[39m\u001b[38;5;124m'\u001b[39m,l)\n\u001b[0;32m      6\u001b[0m t \u001b[38;5;241m=\u001b[39m (\u001b[38;5;241m1\u001b[39m,\u001b[38;5;241m2\u001b[39m,\u001b[38;5;241m3\u001b[39m)\n\u001b[1;32m----> 7\u001b[0m t[\u001b[38;5;241m1\u001b[39m] \u001b[38;5;241m=\u001b[39m \u001b[38;5;241m6\u001b[39m\n",
      "\u001b[1;31mTypeError\u001b[0m: 'tuple' object does not support item assignment"
     ]
    }
   ],
   "source": [
    "#Q1\n",
    "#list is mutable(can change) while tuple is immutable(can't change without typecasting)\n",
    "l = [1,2,3]\n",
    "l[1] = 5\n",
    "print('New_list: ',l)\n",
    "t = (1,2,3)\n",
    "t[1] = 6"
   ]
  },
  {
   "cell_type": "code",
   "execution_count": 10,
   "id": "4893584d-71e8-41b4-b7aa-e246671d2886",
   "metadata": {},
   "outputs": [
    {
     "name": "stdin",
     "output_type": "stream",
     "text": [
      "Enter value of a:  14\n"
     ]
    },
    {
     "name": "stdout",
     "output_type": "stream",
     "text": [
      "<class 'str'>\n"
     ]
    },
    {
     "name": "stdin",
     "output_type": "stream",
     "text": [
      "Enter value of b:  45\n"
     ]
    },
    {
     "name": "stdout",
     "output_type": "stream",
     "text": [
      "<class 'int'>\n"
     ]
    }
   ],
   "source": [
    "#Q2\n",
    "# by input() we can take the input from users\n",
    "a =input('Enter value of a: ')# by default it return string datatype \n",
    "print(type(a))\n",
    "b = int(input('Enter value of b: '))# to convert it to integer\n",
    "print(type(b))"
   ]
  },
  {
   "cell_type": "code",
   "execution_count": 15,
   "id": "89181ab9-2937-4f73-be26-95951b2fb473",
   "metadata": {},
   "outputs": [
    {
     "name": "stdout",
     "output_type": "stream",
     "text": [
      "{'Name': 'Anjnay', 'Age': 21, 'Course': 'BCA'}\n",
      "<class 'dict'>\n"
     ]
    }
   ],
   "source": [
    "# Q3\n",
    "# Dictionary is a datatype in python in which we store the values in the form of keys and values. \n",
    "# Keys should be unique and contains single value while values can have multiple elements.\n",
    "Dic = {'Name': 'Anjnay','Age': 21, 'Course': 'BCA'}\n",
    "print(Dic)\n",
    "print(type(Dic))"
   ]
  },
  {
   "cell_type": "code",
   "execution_count": 17,
   "id": "ac4e6824-e026-48af-8c87-5e5420d20d68",
   "metadata": {},
   "outputs": [
    {
     "name": "stdout",
     "output_type": "stream",
     "text": [
      "1\n",
      "2\n",
      "3\n",
      "4\n",
      "5\n"
     ]
    }
   ],
   "source": [
    "#Q4\n",
    "# 'For' loop runs in the range, it runs till the condition is true in the range.\n",
    "for i in range (1,6):\n",
    "    print (i)\n"
   ]
  },
  {
   "cell_type": "code",
   "execution_count": 97,
   "id": "d9c3390e-3945-4faa-a56f-878d9a61c220",
   "metadata": {},
   "outputs": [
    {
     "name": "stdout",
     "output_type": "stream",
     "text": [
      "Zero can't be in denominator\n",
      "This is finally block\n"
     ]
    }
   ],
   "source": [
    "# Q5\n",
    "# Exception handling helps to handle the errors which may hudle the desired output\n",
    "# try: in try block we write the code where an error may occur\n",
    "# except: by except block we handle the error and it runs if there is an error in try block\n",
    "# finally: the code of this block runs whether except occur or not\n",
    "\n",
    "try:\n",
    "    a = 1/0\n",
    "    print(a)\n",
    "except:\n",
    "    print('''Zero can't be in denominator''')\n",
    "finally:\n",
    "    print('This is finally block')"
   ]
  },
  {
   "cell_type": "code",
   "execution_count": 27,
   "id": "9606074a-a905-4f40-b65c-87d87a7f555c",
   "metadata": {},
   "outputs": [],
   "source": [
    "#Q6\n",
    "#Python modules are the combination of related classes,functions, and methods.\n",
    "# import math: here we are importing the math module, by this we can access all the classes or functions which are exit in this module\n",
    "# from math import sqrt: here we are only importing sqrt funtion from math module which perform square root of a number"
   ]
  },
  {
   "cell_type": "code",
   "execution_count": 94,
   "id": "806f67b3-41b2-4c26-a1aa-55b47785a454",
   "metadata": {},
   "outputs": [
    {
     "name": "stdout",
     "output_type": "stream",
     "text": [
      "3.141592653589793\n",
      "4.0\n"
     ]
    }
   ],
   "source": [
    "import math\n",
    "print(math.pi)\n",
    "\n",
    "from math import sqrt\n",
    "a = sqrt(16)\n",
    "print(a)"
   ]
  },
  {
   "cell_type": "code",
   "execution_count": 37,
   "id": "3e894e1e-7dfc-42ae-8b84-b2fa18ba6278",
   "metadata": {},
   "outputs": [],
   "source": [
    "#Q7\n",
    "# OOPS refers to devlope the code which is object oriented(which means the coding should be goal oriented). \n",
    "# It has 4 pillars (Encapsulation, Abstraction, Inheritance, polymorphism\n",
    "# Classes are the entities which exist in real world. it is the blue print of the properties of object.\n",
    "# Objects are the instances of the classes which contains all the properties of the class."
   ]
  },
  {
   "cell_type": "code",
   "execution_count": 38,
   "id": "fc9e692f-6710-46c4-ab0a-796de8de8a38",
   "metadata": {},
   "outputs": [
    {
     "name": "stdout",
     "output_type": "stream",
     "text": [
      "I am a human being.\n"
     ]
    }
   ],
   "source": [
    "class Human:\n",
    "    def __init__(self):\n",
    "        print('I am a human being.')\n",
    "Anjnay = Human()"
   ]
  },
  {
   "cell_type": "code",
   "execution_count": 43,
   "id": "9e7c323a-2beb-425f-9eff-af96332d0b61",
   "metadata": {},
   "outputs": [
    {
     "data": {
      "text/plain": [
       "[0, 4, 8, 12, 16]"
      ]
     },
     "execution_count": 43,
     "metadata": {},
     "output_type": "execute_result"
    }
   ],
   "source": [
    "#Q8\n",
    "result = []\n",
    "for x in range(10):\n",
    "    if x % 2 == 0:\n",
    "        result.append(x * 2)\n",
    "result"
   ]
  },
  {
   "cell_type": "code",
   "execution_count": 46,
   "id": "a2806390-dd68-4600-9cbd-a2c67fc06e20",
   "metadata": {},
   "outputs": [],
   "source": [
    "# Q9\n",
    "def Calculate_area():\n",
    "    radius = int(input('Enter the radius of circle: '))\n",
    "    Area =  (22/7) * radius**2\n",
    "    return Area\n"
   ]
  },
  {
   "cell_type": "code",
   "execution_count": 48,
   "id": "e1f1e6ba-9682-475c-80c3-61565af33f9e",
   "metadata": {},
   "outputs": [
    {
     "name": "stdin",
     "output_type": "stream",
     "text": [
      "Enter the radius of circle:  5\n"
     ]
    },
    {
     "data": {
      "text/plain": [
       "78.57142857142857"
      ]
     },
     "execution_count": 48,
     "metadata": {},
     "output_type": "execute_result"
    }
   ],
   "source": [
    "Calculate_area()"
   ]
  },
  {
   "cell_type": "code",
   "execution_count": 55,
   "id": "369c1c7c-40f1-4773-8056-7fab81188237",
   "metadata": {},
   "outputs": [],
   "source": [
    "def Greet(Name = 'Student', Age = None):\n",
    "    if (Name == None) and (Age == None):\n",
    "        print('Hello')\n",
    "    elif (Name != None) and (Age == None):\n",
    "        print(f'Hello {Name}, How are you??')\n",
    "    elif (Name != None) and (Age != None):\n",
    "        print(f'Hello {Name}, you are {Age} years old!')\n",
    "    else:\n",
    "        print('Invalid')\n",
    "    "
   ]
  },
  {
   "cell_type": "code",
   "execution_count": 56,
   "id": "fea42137-d7b6-485f-a527-c4e06e10403a",
   "metadata": {},
   "outputs": [
    {
     "name": "stdout",
     "output_type": "stream",
     "text": [
      "Hello Student, How are you??\n"
     ]
    }
   ],
   "source": [
    "Greet()"
   ]
  },
  {
   "cell_type": "code",
   "execution_count": 57,
   "id": "b1834fa8-f5ed-4d65-b758-2cdd3e11d7d4",
   "metadata": {},
   "outputs": [
    {
     "name": "stdout",
     "output_type": "stream",
     "text": [
      "Hello Anjnay, How are you??\n"
     ]
    }
   ],
   "source": [
    "Greet('Anjnay')"
   ]
  },
  {
   "cell_type": "code",
   "execution_count": 58,
   "id": "0b10dc66-3bb5-4260-a508-d4a45d37bc1f",
   "metadata": {},
   "outputs": [
    {
     "name": "stdout",
     "output_type": "stream",
     "text": [
      "Hello Anjnay, you are 21 years old!\n"
     ]
    }
   ],
   "source": [
    "Greet('Anjnay',21)"
   ]
  },
  {
   "cell_type": "code",
   "execution_count": 65,
   "id": "5a91e9e3-490d-4795-9038-e9d391ef01ba",
   "metadata": {},
   "outputs": [
    {
     "name": "stdout",
     "output_type": "stream",
     "text": [
      "(0, 'Apple')\n",
      "(1, 'Pineapple')\n",
      "(2, 'Mango')\n",
      "(3, 'Banana')\n",
      "(4, 'Lichi')\n"
     ]
    }
   ],
   "source": [
    "# Q11\n",
    "fruits = ['Apple','Pineapple','Mango','Banana','Lichi']\n",
    "for i in enumerate(fruits):\n",
    "        print(i) "
   ]
  },
  {
   "cell_type": "code",
   "execution_count": 70,
   "id": "dd68e5d6-016a-4110-af01-39c2382b065a",
   "metadata": {},
   "outputs": [],
   "source": [
    "# Q12\n",
    "def grade_calc(score = None):\n",
    "    if(100>=score>=90):\n",
    "        return 'Grade A'\n",
    "    elif(89>=score>=80):\n",
    "        return 'Grade B'\n",
    "    elif(79>=score>=70):\n",
    "        return 'Grade C'\n",
    "    elif(69>=score>=60):\n",
    "        return 'Grade D'\n",
    "    elif(60>score):\n",
    "        return 'Grade F'    "
   ]
  },
  {
   "cell_type": "code",
   "execution_count": 71,
   "id": "b67acbd8-2fb5-46bd-976d-19b290a9237e",
   "metadata": {},
   "outputs": [
    {
     "data": {
      "text/plain": [
       "'Grade B'"
      ]
     },
     "execution_count": 71,
     "metadata": {},
     "output_type": "execute_result"
    }
   ],
   "source": [
    "grade_calc(87)"
   ]
  },
  {
   "cell_type": "code",
   "execution_count": 74,
   "id": "a79d461d-87bc-4ea7-946a-5d93507b5d55",
   "metadata": {},
   "outputs": [
    {
     "data": {
      "text/plain": [
       "'Grade F'"
      ]
     },
     "execution_count": 74,
     "metadata": {},
     "output_type": "execute_result"
    }
   ],
   "source": [
    "grade_calc(45)"
   ]
  },
  {
   "cell_type": "code",
   "execution_count": 75,
   "id": "8efeec7d-6623-4fd8-b485-21dbe7e25e6a",
   "metadata": {},
   "outputs": [
    {
     "data": {
      "text/plain": [
       "'Grade D'"
      ]
     },
     "execution_count": 75,
     "metadata": {},
     "output_type": "execute_result"
    }
   ],
   "source": [
    "grade_calc(69)"
   ]
  },
  {
   "cell_type": "code",
   "execution_count": 92,
   "id": "83f19da3-18e3-4d94-95d4-b8877440add1",
   "metadata": {},
   "outputs": [
    {
     "name": "stdin",
     "output_type": "stream",
     "text": [
      "Enter the your name:  rohan\n",
      "Enter the your balance:  50000\n"
     ]
    }
   ],
   "source": [
    "# Q14\n",
    "class Bank_acc:\n",
    "    name = input('Enter the your name: ')\n",
    "    balance = int(input('Enter the your balance: '))\n",
    "    \n",
    "    def __init__(self):\n",
    "        \n",
    "        print(f'Hi {name}, your bank balance is {balance}')\n",
    "    def deposit(self):\n",
    "        d = int(input('Enter the value of deposit: '))\n",
    "        print(f'{d} amount has been deposited successfully')\n",
    "        #balance += d\n",
    "    def withdraw(self):\n",
    "        w = int(input('Enter the value of withdraw: '))\n",
    "        if balance>=w:\n",
    "            print(f'{w} has been withdrawal.')\n",
    "        else:\n",
    "            print('insufficient balance')\n",
    "       # balance -= w\n",
    "    def current_balance(self):\n",
    "        print(f'Your current balance is: {balance}') \n"
   ]
  },
  {
   "cell_type": "code",
   "execution_count": 93,
   "id": "57204e66-a489-4060-b48f-9bf78d2a3eeb",
   "metadata": {},
   "outputs": [
    {
     "ename": "NameError",
     "evalue": "name 'name' is not defined",
     "output_type": "error",
     "traceback": [
      "\u001b[1;31m---------------------------------------------------------------------------\u001b[0m",
      "\u001b[1;31mNameError\u001b[0m                                 Traceback (most recent call last)",
      "Cell \u001b[1;32mIn[93], line 1\u001b[0m\n\u001b[1;32m----> 1\u001b[0m rohan \u001b[38;5;241m=\u001b[39mBank_acc()\n",
      "Cell \u001b[1;32mIn[92], line 8\u001b[0m, in \u001b[0;36mBank_acc.__init__\u001b[1;34m(self)\u001b[0m\n\u001b[0;32m      6\u001b[0m \u001b[38;5;28;01mdef\u001b[39;00m\u001b[38;5;250m \u001b[39m\u001b[38;5;21m__init__\u001b[39m(\u001b[38;5;28mself\u001b[39m):\n\u001b[1;32m----> 8\u001b[0m     \u001b[38;5;28mprint\u001b[39m(\u001b[38;5;124mf\u001b[39m\u001b[38;5;124m'\u001b[39m\u001b[38;5;124mHi \u001b[39m\u001b[38;5;132;01m{\u001b[39;00mname\u001b[38;5;132;01m}\u001b[39;00m\u001b[38;5;124m, your bank balance is \u001b[39m\u001b[38;5;132;01m{\u001b[39;00mbalance\u001b[38;5;132;01m}\u001b[39;00m\u001b[38;5;124m'\u001b[39m)\n",
      "\u001b[1;31mNameError\u001b[0m: name 'name' is not defined"
     ]
    }
   ],
   "source": [
    "rohan =Bank_acc()"
   ]
  },
  {
   "cell_type": "code",
   "execution_count": 84,
   "id": "55610ba5-6151-4655-b7ec-9f3df1ec626e",
   "metadata": {},
   "outputs": [
    {
     "name": "stdin",
     "output_type": "stream",
     "text": [
      "Enter the value of deposit:  5000\n"
     ]
    },
    {
     "name": "stdout",
     "output_type": "stream",
     "text": [
      "5000 amount has been deposited successfully\n"
     ]
    }
   ],
   "source": [
    "rohan.deposit()"
   ]
  },
  {
   "cell_type": "code",
   "execution_count": 85,
   "id": "4214232f-9b94-4da4-bd41-321967a0402a",
   "metadata": {},
   "outputs": [
    {
     "name": "stdin",
     "output_type": "stream",
     "text": [
      "Enter the value of withdraw:  2000\n"
     ]
    },
    {
     "ename": "NameError",
     "evalue": "name 'balance' is not defined",
     "output_type": "error",
     "traceback": [
      "\u001b[1;31m---------------------------------------------------------------------------\u001b[0m",
      "\u001b[1;31mNameError\u001b[0m                                 Traceback (most recent call last)",
      "Cell \u001b[1;32mIn[85], line 1\u001b[0m\n\u001b[1;32m----> 1\u001b[0m rohan\u001b[38;5;241m.\u001b[39mwithdraw()\n",
      "Cell \u001b[1;32mIn[82], line 14\u001b[0m, in \u001b[0;36mBank_acc.withdraw\u001b[1;34m(self)\u001b[0m\n\u001b[0;32m     12\u001b[0m \u001b[38;5;28;01mdef\u001b[39;00m\u001b[38;5;250m \u001b[39m\u001b[38;5;21mwithdraw\u001b[39m(\u001b[38;5;28mself\u001b[39m):\n\u001b[0;32m     13\u001b[0m     w \u001b[38;5;241m=\u001b[39m \u001b[38;5;28mint\u001b[39m(\u001b[38;5;28minput\u001b[39m(\u001b[38;5;124m'\u001b[39m\u001b[38;5;124mEnter the value of withdraw: \u001b[39m\u001b[38;5;124m'\u001b[39m))\n\u001b[1;32m---> 14\u001b[0m     \u001b[38;5;28;01mif\u001b[39;00m balance\u001b[38;5;241m>\u001b[39m\u001b[38;5;241m=\u001b[39mw:\n\u001b[0;32m     15\u001b[0m         \u001b[38;5;28mprint\u001b[39m(\u001b[38;5;124mf\u001b[39m\u001b[38;5;124m'\u001b[39m\u001b[38;5;132;01m{\u001b[39;00mw\u001b[38;5;132;01m}\u001b[39;00m\u001b[38;5;124m has been withdrawal.\u001b[39m\u001b[38;5;124m'\u001b[39m)\n\u001b[0;32m     16\u001b[0m     \u001b[38;5;28;01melse\u001b[39;00m:\n",
      "\u001b[1;31mNameError\u001b[0m: name 'balance' is not defined"
     ]
    }
   ],
   "source": [
    "rohan.withdraw()\n"
   ]
  },
  {
   "cell_type": "code",
   "execution_count": null,
   "id": "e4421941-8988-46ab-9755-172153f01ef8",
   "metadata": {},
   "outputs": [],
   "source": []
  }
 ],
 "metadata": {
  "kernelspec": {
   "display_name": "Python [conda env:base] *",
   "language": "python",
   "name": "conda-base-py"
  },
  "language_info": {
   "codemirror_mode": {
    "name": "ipython",
    "version": 3
   },
   "file_extension": ".py",
   "mimetype": "text/x-python",
   "name": "python",
   "nbconvert_exporter": "python",
   "pygments_lexer": "ipython3",
   "version": "3.13.5"
  }
 },
 "nbformat": 4,
 "nbformat_minor": 5
}
