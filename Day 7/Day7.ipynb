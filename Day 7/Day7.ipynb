{
 "cells": [
  {
   "cell_type": "code",
   "execution_count": 1,
   "id": "06a8665c-424f-4a82-972d-430fdba2b848",
   "metadata": {},
   "outputs": [],
   "source": [
    "class A:\n",
    "    def i_am_a(self):\n",
    "        print('I am Func of Class A')\n",
    "class B:\n",
    "    def i_am_b(self):\n",
    "        print('I am Func of Class B')\n",
    "        "
   ]
  },
  {
   "cell_type": "code",
   "execution_count": 2,
   "id": "3f54b2e2-eef1-4068-b8e4-065ed80f3af2",
   "metadata": {},
   "outputs": [],
   "source": [
    "ob_a = A()\n",
    "ob_b = B()"
   ]
  },
  {
   "cell_type": "code",
   "execution_count": 3,
   "id": "0a05142d-fd26-4783-9d3d-389a0a5f7909",
   "metadata": {},
   "outputs": [],
   "source": [
    "# simple inheritance(single)\n",
    "# Multiple inheritance\n",
    "# multilevel inheritance\n",
    "# hybrid inheritance "
   ]
  },
  {
   "cell_type": "code",
   "execution_count": 4,
   "id": "620e4b2a-7650-4bd0-9f20-d6dec6adfe13",
   "metadata": {},
   "outputs": [],
   "source": [
    "# Simple inheritance"
   ]
  },
  {
   "cell_type": "code",
   "execution_count": 5,
   "id": "d74d17e9-765b-4980-9a9b-5b4efc65cafd",
   "metadata": {},
   "outputs": [],
   "source": [
    "#class:"
   ]
  },
  {
   "cell_type": "code",
   "execution_count": 9,
   "id": "b47a30ca-20f8-4ce7-acd1-49bb42748930",
   "metadata": {},
   "outputs": [],
   "source": [
    "class BMW: #Parent class, Main class, Main class, Base class\n",
    "    def super_turbo_engine(self):\n",
    "        print('super_turbo_engine Fast speed')\n",
    "class Audi(BMW):\n",
    "    def auto_pilot(self):\n",
    "        print('Can run on Auto Pilot')"
   ]
  },
  {
   "cell_type": "code",
   "execution_count": 10,
   "id": "c6f40624-b548-4812-b714-0fd26040081e",
   "metadata": {},
   "outputs": [],
   "source": [
    "audi_r8 = Audi()"
   ]
  },
  {
   "cell_type": "code",
   "execution_count": 11,
   "id": "2afd8910-6c9e-4fad-9da8-0e672dd8c7cd",
   "metadata": {},
   "outputs": [
    {
     "name": "stdout",
     "output_type": "stream",
     "text": [
      "Can run on Auto Pilot\n"
     ]
    }
   ],
   "source": [
    "audi_r8.auto_pilot()\n"
   ]
  },
  {
   "cell_type": "code",
   "execution_count": 12,
   "id": "1a0608ff-effd-4a0f-9ad8-bba275bce0c1",
   "metadata": {},
   "outputs": [
    {
     "name": "stdout",
     "output_type": "stream",
     "text": [
      "super_turbo_engine Fast speed\n"
     ]
    }
   ],
   "source": [
    "audi_r8.super_turbo_engine()"
   ]
  },
  {
   "cell_type": "code",
   "execution_count": 13,
   "id": "2e3c4026-7c0e-4a26-a220-a7afb10100ed",
   "metadata": {},
   "outputs": [],
   "source": [
    "# Mupliple inheritance"
   ]
  },
  {
   "cell_type": "code",
   "execution_count": 40,
   "id": "73b125fe-baed-4d3e-81d3-3dbbf30a7550",
   "metadata": {},
   "outputs": [],
   "source": [
    "class Daily_Object:\n",
    "    def phone_case(self):\n",
    "        print('Strong Bulid Phone Case')\n",
    "class JBL:\n",
    "    def sonic_speaker(self):\n",
    "        print('High Quality Sound Speaker')\n",
    "class Samsung:\n",
    "    def screen_display(self):\n",
    "        priint('4k Display')\n",
    "class Nvidia:\n",
    "    def motherboard(self):\n",
    "        print('Fast motherboard')\n",
    "class Sony:\n",
    "    def camera(self):\n",
    "        print('4k camera')\n",
    "class Lava:\n",
    "    def charger(self):\n",
    "        print('SuperFast charger from LAVA')\n",
    "class Oneplus:\n",
    "    def charger(self):\n",
    "        print('Original Superfast Charger from Oneplus')\n",
    "class Mobile(Daily_Object,JBL,Samsung,Sony,Nvidia,Oneplus,Lava):\n",
    "    def __init__(self):\n",
    "        print('Phone is ready')\n",
    "    def charger(self):\n",
    "        print('Actual charger of Mobile')\n"
   ]
  },
  {
   "cell_type": "code",
   "execution_count": 41,
   "id": "2eb3f7df-5f66-4b31-ba16-07ac3a01c837",
   "metadata": {},
   "outputs": [
    {
     "name": "stdout",
     "output_type": "stream",
     "text": [
      "Phone is ready\n"
     ]
    }
   ],
   "source": [
    "Nothing = Mobile()"
   ]
  },
  {
   "cell_type": "code",
   "execution_count": 26,
   "id": "323da302-534e-4c31-80fc-475fbe055736",
   "metadata": {},
   "outputs": [
    {
     "name": "stdout",
     "output_type": "stream",
     "text": [
      "Strong Bulid Phone Case\n"
     ]
    }
   ],
   "source": [
    "Nothing.phone_case()"
   ]
  },
  {
   "cell_type": "code",
   "execution_count": 27,
   "id": "f75ee09f-f660-43a6-a8fe-75a2a811bc0a",
   "metadata": {},
   "outputs": [
    {
     "name": "stdout",
     "output_type": "stream",
     "text": [
      "Fast motherboard\n"
     ]
    }
   ],
   "source": [
    "Nothing.motherboard()"
   ]
  },
  {
   "cell_type": "code",
   "execution_count": 30,
   "id": "a9610723-18f5-4cf8-929d-b5ebb3e3cf0c",
   "metadata": {},
   "outputs": [
    {
     "name": "stdout",
     "output_type": "stream",
     "text": [
      "SuperFast charger\n"
     ]
    }
   ],
   "source": [
    "Nothing.charger()"
   ]
  },
  {
   "cell_type": "code",
   "execution_count": 42,
   "id": "8fb31b45-65d8-4283-b4f1-3178e1dd8f71",
   "metadata": {},
   "outputs": [
    {
     "name": "stdout",
     "output_type": "stream",
     "text": [
      "Actual charger of Mobile\n"
     ]
    }
   ],
   "source": [
    "Nothing.charger()"
   ]
  },
  {
   "cell_type": "markdown",
   "id": "093b68fd-8f00-4aa9-848b-f57287f4382b",
   "metadata": {},
   "source": [
    " "
   ]
  },
  {
   "cell_type": "code",
   "execution_count": 43,
   "id": "47e419c3-d56a-4e02-8856-37f649ad4b16",
   "metadata": {},
   "outputs": [],
   "source": [
    "#Multilevel Inheritance"
   ]
  },
  {
   "cell_type": "code",
   "execution_count": 58,
   "id": "b6cca02a-308c-4337-8c29-537111a0014b",
   "metadata": {},
   "outputs": [],
   "source": [
    "class Grandfather:\n",
    "    def land_property(self):\n",
    "        print('Land property')\n",
    "class Father(Grandfather):\n",
    "    def bank_balance(self):\n",
    "        print('Bog Money Player, Huge Bank Balance')\n",
    "class Son(Father):\n",
    "    def political_power(self):\n",
    "        print('Polotical Powers')\n",
    "class Grandson(Son):\n",
    "    def mind(self):\n",
    "        print('Mind for Self Study')\n",
    "class Friend(Grandson):\n",
    "    def __init__(self):\n",
    "        print('Nothing!!')"
   ]
  },
  {
   "cell_type": "code",
   "execution_count": 59,
   "id": "b2d1ccd0-016a-4869-af19-db9a3871695d",
   "metadata": {},
   "outputs": [
    {
     "name": "stdout",
     "output_type": "stream",
     "text": [
      "Nothing!!\n"
     ]
    }
   ],
   "source": [
    "Nakul = Friend()"
   ]
  },
  {
   "cell_type": "code",
   "execution_count": 60,
   "id": "8033186f-0158-4c73-b3e4-634e915723b1",
   "metadata": {},
   "outputs": [
    {
     "name": "stdout",
     "output_type": "stream",
     "text": [
      "Polotical Powers\n"
     ]
    }
   ],
   "source": [
    "Nakul.political_power()"
   ]
  },
  {
   "cell_type": "code",
   "execution_count": 61,
   "id": "17d3cbf4-a62c-4427-a172-2690284434a2",
   "metadata": {},
   "outputs": [],
   "source": [
    "aman = Grandson()"
   ]
  },
  {
   "cell_type": "code",
   "execution_count": 63,
   "id": "04812aa0-401e-4e88-879d-cc77766c194c",
   "metadata": {},
   "outputs": [
    {
     "name": "stdout",
     "output_type": "stream",
     "text": [
      "Land property\n"
     ]
    }
   ],
   "source": [
    "aman.land_property()"
   ]
  },
  {
   "cell_type": "code",
   "execution_count": 65,
   "id": "2ebb5a84-2369-47da-b9be-31453f97ab35",
   "metadata": {},
   "outputs": [],
   "source": [
    "# Hybrid Inheritance"
   ]
  },
  {
   "cell_type": "code",
   "execution_count": 76,
   "id": "9d4810cc-dbdb-4b99-a7a8-f870ce01c1f2",
   "metadata": {},
   "outputs": [],
   "source": [
    "class Hybrid_class(Mobile,Friend,Audi):  #Mobile(Multiple), Friend(Multilevel), \n",
    "    def __init__(self):\n",
    "        print('This is hybrib class')\n",
    "    def info(self):\n",
    "        print('This calls all methods')"
   ]
  },
  {
   "cell_type": "code",
   "execution_count": 77,
   "id": "503a8751-dcf9-457c-985e-a946f1279296",
   "metadata": {},
   "outputs": [
    {
     "name": "stdout",
     "output_type": "stream",
     "text": [
      "This is hybrib class\n"
     ]
    }
   ],
   "source": [
    "a = Hybrid_class()"
   ]
  },
  {
   "cell_type": "code",
   "execution_count": 78,
   "id": "bc698547-041c-497d-b47e-506791eaf73c",
   "metadata": {},
   "outputs": [
    {
     "name": "stdout",
     "output_type": "stream",
     "text": [
      "Bog Money Player, Huge Bank Balance\n"
     ]
    }
   ],
   "source": [
    "a.bank_balance()"
   ]
  },
  {
   "cell_type": "code",
   "execution_count": 79,
   "id": "3fc03918-1769-4014-8e41-d559c791e094",
   "metadata": {},
   "outputs": [
    {
     "name": "stdout",
     "output_type": "stream",
     "text": [
      "This calls all methods\n"
     ]
    }
   ],
   "source": [
    "a.info()"
   ]
  },
  {
   "cell_type": "code",
   "execution_count": 80,
   "id": "a5acc9d0-b161-494b-9bb1-d421988f5c89",
   "metadata": {},
   "outputs": [],
   "source": [
    "class UGC:\n",
    "    def __init__(self):\n",
    "        print('Grant Permission')\n",
    "    def college_appoval(self):\n",
    "        print('College has been approved')\n",
    "class DU(UGC):\n",
    "    def multiple_colleges(self):\n",
    "        print('List of colleges')\n",
    "class IP(UGC):\n",
    "    def multiple_colleges(self):\n",
    "        print('List of colleges')\n",
    "class DTU(UGC):\n",
    "    def multiple_colleges(self):\n",
    "        print('List of colleges')"
   ]
  },
  {
   "cell_type": "code",
   "execution_count": 81,
   "id": "bd7c04ad-74fe-4845-a2eb-893bc14f3f80",
   "metadata": {},
   "outputs": [
    {
     "name": "stdout",
     "output_type": "stream",
     "text": [
      "Grant Permission\n"
     ]
    }
   ],
   "source": [
    "c = UGC()"
   ]
  },
  {
   "cell_type": "code",
   "execution_count": 82,
   "id": "671f7d8e-2fd2-490c-bcea-f9589a938e70",
   "metadata": {},
   "outputs": [
    {
     "name": "stdout",
     "output_type": "stream",
     "text": [
      "College has been approved\n"
     ]
    }
   ],
   "source": [
    "c.college_appoval()"
   ]
  },
  {
   "cell_type": "code",
   "execution_count": 100,
   "id": "a8e7c7ba-dd7e-4394-b779-69b0d29b61a8",
   "metadata": {},
   "outputs": [
    {
     "name": "stdout",
     "output_type": "stream",
     "text": [
      "Car Car speed:  Max speed 200km/h\n",
      "BMW Car speed:  Max speed 250km/h\n",
      "Audi Car speed:  Max speed 300km/h\n"
     ]
    }
   ],
   "source": [
    "class Car:\n",
    "    def speed(self):\n",
    "        return('Max speed 200km/h')\n",
    "    def auto_pilot(self):\n",
    "        return('It support auto pilot')\n",
    "    def info(self):\n",
    "        return('This is just a car object')\n",
    "class BMW(Car):\n",
    "    def speed(self):\n",
    "        return('Max speed 250km/h')\n",
    "    def info(self):\n",
    "        return('A BMW car')\n",
    "class Audi(Car):\n",
    "    def speed(self):\n",
    "        return('Max speed 300km/h')\n",
    "    def info(self):\n",
    "        return('A Audi car🏎️')\n",
    "for i in [Car,BMW,Audi]:\n",
    "    f1 = i()\n",
    "    print(f'{i.__name__} Car speed: ',f1.speed())"
   ]
  },
  {
   "cell_type": "code",
   "execution_count": 101,
   "id": "de178bcd-40fc-47da-ac91-20f0c13b3c29",
   "metadata": {},
   "outputs": [
    {
     "name": "stdout",
     "output_type": "stream",
     "text": [
      "Max speed 200km/h\n"
     ]
    }
   ],
   "source": [
    "f1 = Car()\n",
    "print(f1.speed())"
   ]
  },
  {
   "cell_type": "code",
   "execution_count": 105,
   "id": "9cf4d692-c55c-44a9-ad40-dcee42182e73",
   "metadata": {},
   "outputs": [
    {
     "name": "stdout",
     "output_type": "stream",
     "text": [
      "Hello Aman,how are you??\n",
      "Your address is Delhi\n"
     ]
    }
   ],
   "source": [
    "class IITM:\n",
    "    def intro(self):\n",
    "        print('Hello Candidates!!!')\n",
    "    def intro(self,name):\n",
    "        print(f'Hello {name},how are you??')\n",
    "    def intro(self,name,address):\n",
    "        print(f'Hello {name},how are you??')\n",
    "        print(f'Your address is {address}')\n",
    "a = IITM()\n",
    "a.intro('Aman','Delhi')"
   ]
  },
  {
   "cell_type": "code",
   "execution_count": 129,
   "id": "77fa3463-70a3-4e99-8577-91decaf7f8d4",
   "metadata": {},
   "outputs": [],
   "source": [
    "class IITM:\n",
    "    def intro(self,name = None ,address = None):\n",
    "        if (name == None) and (address == None):\n",
    "            print('Hello Candidates!!!')\n",
    "        elif (name != None) and (address == None):\n",
    "            print(f'Hello {name},how are you??')\n",
    "        elif (name != None) and (address != None):\n",
    "            print(f'Hello {name},how are you??')\n",
    "            print(f'Your address is {address}')\n",
    "        else: \n",
    "            print('Hello Buddy')"
   ]
  },
  {
   "cell_type": "code",
   "execution_count": 130,
   "id": "3fa0a731-ed90-46f1-876f-2731b235c06a",
   "metadata": {},
   "outputs": [],
   "source": [
    "a = IITM()"
   ]
  },
  {
   "cell_type": "code",
   "execution_count": 131,
   "id": "4298d8bf-b464-4cb3-8a60-3366a3177f5a",
   "metadata": {},
   "outputs": [
    {
     "name": "stdout",
     "output_type": "stream",
     "text": [
      "Hello Candidates!!!\n"
     ]
    }
   ],
   "source": [
    "a.intro()"
   ]
  },
  {
   "cell_type": "code",
   "execution_count": 132,
   "id": "2152f9fb-a85b-4cc9-9278-01d0eec59b54",
   "metadata": {},
   "outputs": [
    {
     "name": "stdout",
     "output_type": "stream",
     "text": [
      "Hello Aman,how are you??\n",
      "Your address is Delhi\n"
     ]
    }
   ],
   "source": [
    "a.intro('Aman','Delhi')"
   ]
  },
  {
   "cell_type": "code",
   "execution_count": 135,
   "id": "3c5ba342-a9e1-48d0-af07-f2f8df3f2942",
   "metadata": {},
   "outputs": [
    {
     "name": "stdout",
     "output_type": "stream",
     "text": [
      "Hello ,how are you??\n",
      "Your address is Delhi\n"
     ]
    }
   ],
   "source": [
    "a.intro('','Delhi')"
   ]
  },
  {
   "cell_type": "code",
   "execution_count": 137,
   "id": "dc634e59-52b7-4322-a7cf-d3e718e54074",
   "metadata": {},
   "outputs": [],
   "source": [
    "#Abstraction\n",
    "\n",
    "# idea: Blueprint\n",
    "# not a physical  obeject\n",
    "# Abstraction:- project management\n",
    "# all methods are compulsory\n"
   ]
  },
  {
   "cell_type": "code",
   "execution_count": 145,
   "id": "24c138be-c9ca-4212-8da5-c7f6dcadb6a0",
   "metadata": {},
   "outputs": [],
   "source": [
    "from abc import ABC, abstractmethod\n",
    "class Website(ABC):\n",
    "    @abstractmethod\n",
    "    def login(self):\n",
    "        print('This is a login method')\n",
    "    @abstractmethod\n",
    "    def logout(self):\n",
    "        print('This is a logout method')\n",
    "        "
   ]
  },
  {
   "cell_type": "code",
   "execution_count": 147,
   "id": "35c8ff2e-b046-4a03-ad6f-77fe41a0f1dd",
   "metadata": {},
   "outputs": [
    {
     "ename": "TypeError",
     "evalue": "Can't instantiate abstract class Website without an implementation for abstract methods 'login', 'logout'",
     "output_type": "error",
     "traceback": [
      "\u001b[1;31m---------------------------------------------------------------------------\u001b[0m",
      "\u001b[1;31mTypeError\u001b[0m                                 Traceback (most recent call last)",
      "Cell \u001b[1;32mIn[147], line 1\u001b[0m\n\u001b[1;32m----> 1\u001b[0m asus \u001b[38;5;241m=\u001b[39m Website()\n\u001b[0;32m      2\u001b[0m \u001b[38;5;28mprint\u001b[39m(\u001b[38;5;124m'\u001b[39m\u001b[38;5;124mDone\u001b[39m\u001b[38;5;124m'\u001b[39m)\n",
      "\u001b[1;31mTypeError\u001b[0m: Can't instantiate abstract class Website without an implementation for abstract methods 'login', 'logout'"
     ]
    }
   ],
   "source": [
    "asus = Website()\n",
    "print('Done')"
   ]
  },
  {
   "cell_type": "code",
   "execution_count": 148,
   "id": "5ab93249-e358-41c9-9d68-c5fa7a985958",
   "metadata": {},
   "outputs": [],
   "source": [
    "class Nakul(Website):\n",
    "    def signup(self):\n",
    "        print('user can signup!!')\n",
    "    def login(self):\n",
    "        print('This is a login form')\n",
    "    def logout(self):\n",
    "        print('User can logout')"
   ]
  },
  {
   "cell_type": "code",
   "execution_count": 149,
   "id": "3f686cc2-ca6d-47a0-adfb-886ccd6ec683",
   "metadata": {},
   "outputs": [
    {
     "name": "stdout",
     "output_type": "stream",
     "text": [
      "user can signup!!\n"
     ]
    }
   ],
   "source": [
    "google = Nakul()\n",
    "google.signup()"
   ]
  },
  {
   "cell_type": "code",
   "execution_count": null,
   "id": "0b668a4f-d938-437d-8d97-d158a0f7cf0d",
   "metadata": {},
   "outputs": [],
   "source": []
  },
  {
   "cell_type": "code",
   "execution_count": null,
   "id": "95e230b9-0521-4978-8ae7-570a54b7f80d",
   "metadata": {},
   "outputs": [],
   "source": [
    "\n",
    "\n",
    "\n",
    "\n",
    "\n",
    "\n",
    "\n",
    "\n",
    "\n",
    "\n",
    "\n",
    "\n"
   ]
  },
  {
   "cell_type": "code",
   "execution_count": null,
   "id": "b1d67cee-7973-4bcc-82a3-3de721543d13",
   "metadata": {},
   "outputs": [],
   "source": []
  },
  {
   "cell_type": "code",
   "execution_count": null,
   "id": "b73ada41-8dbd-4465-8483-5c87a1ce57fc",
   "metadata": {},
   "outputs": [],
   "source": []
  },
  {
   "cell_type": "code",
   "execution_count": null,
   "id": "6c16dbeb-fc1c-425b-9ff3-57f9d0ba523e",
   "metadata": {},
   "outputs": [],
   "source": []
  },
  {
   "cell_type": "code",
   "execution_count": null,
   "id": "9c11eb49-eccd-4d15-8222-c64c49a1086a",
   "metadata": {},
   "outputs": [],
   "source": []
  },
  {
   "cell_type": "code",
   "execution_count": null,
   "id": "6cc455d0-1954-4f28-8241-c1ddcdd5096d",
   "metadata": {},
   "outputs": [],
   "source": []
  },
  {
   "cell_type": "code",
   "execution_count": null,
   "id": "84692b7f-00a3-4cef-9c39-5cbd7a54b144",
   "metadata": {},
   "outputs": [],
   "source": [
    "\n",
    "\n",
    "\n",
    "\n",
    "\n",
    "\n",
    "\n",
    "\n"
   ]
  }
 ],
 "metadata": {
  "kernelspec": {
   "display_name": "Python [conda env:base] *",
   "language": "python",
   "name": "conda-base-py"
  },
  "language_info": {
   "codemirror_mode": {
    "name": "ipython",
    "version": 3
   },
   "file_extension": ".py",
   "mimetype": "text/x-python",
   "name": "python",
   "nbconvert_exporter": "python",
   "pygments_lexer": "ipython3",
   "version": "3.13.5"
  }
 },
 "nbformat": 4,
 "nbformat_minor": 5
}
