{
 "cells": [
  {
   "cell_type": "code",
   "execution_count": 1,
   "id": "5d6e5952-2dce-4569-a545-90cbcd8f5743",
   "metadata": {},
   "outputs": [],
   "source": [
    "def check_palindrome(word):\n",
    "    return word"
   ]
  },
  {
   "cell_type": "code",
   "execution_count": 11,
   "id": "c6ad0e05-5bf7-412a-ba4f-ffaf4df108db",
   "metadata": {},
   "outputs": [
    {
     "data": {
      "text/plain": [
       "'Ajay'"
      ]
     },
     "execution_count": 11,
     "metadata": {},
     "output_type": "execute_result"
    }
   ],
   "source": [
    "check_pailnetrome('Ajay')\n"
   ]
  },
  {
   "cell_type": "code",
   "execution_count": 4,
   "id": "43ded4f7-90a4-4bf0-8f33-fb375fbff209",
   "metadata": {},
   "outputs": [
    {
     "data": {
      "text/plain": [
       "'ykcul'"
      ]
     },
     "execution_count": 4,
     "metadata": {},
     "output_type": "execute_result"
    }
   ],
   "source": [
    "a = 'lucky'\n",
    "a[::-1]"
   ]
  },
  {
   "cell_type": "code",
   "execution_count": 10,
   "id": "57abc4ce-37d5-4a3e-86c8-e6bcee7cc199",
   "metadata": {},
   "outputs": [
    {
     "name": "stdout",
     "output_type": "stream",
     "text": [
      "nitin is a palindrome.\n"
     ]
    }
   ],
   "source": [
    "a = 'nitin'\n",
    "if a == a[::-1]:\n",
    "    print(f'{a} is a palindrome.')\n",
    "else:\n",
    "    print(f'{a} is not a palindrome.')\n",
    "    "
   ]
  },
  {
   "cell_type": "code",
   "execution_count": 27,
   "id": "74efd203-6e0e-4734-afc4-69271c41fc33",
   "metadata": {},
   "outputs": [
    {
     "name": "stdin",
     "output_type": "stream",
     "text": [
      "Enter your input:  12121\n"
     ]
    },
    {
     "ename": "TypeError",
     "evalue": "check_palindrome() takes 0 positional arguments but 1 was given",
     "output_type": "error",
     "traceback": [
      "\u001b[1;31m---------------------------------------------------------------------------\u001b[0m",
      "\u001b[1;31mTypeError\u001b[0m                                 Traceback (most recent call last)",
      "Cell \u001b[1;32mIn[27], line 8\u001b[0m\n\u001b[0;32m      6\u001b[0m         \u001b[38;5;28mprint\u001b[39m(\u001b[38;5;124mf\u001b[39m\u001b[38;5;124m'\u001b[39m\u001b[38;5;132;01m{\u001b[39;00mword\u001b[38;5;132;01m}\u001b[39;00m\u001b[38;5;124m is not a palindrome.\u001b[39m\u001b[38;5;124m'\u001b[39m)\n\u001b[0;32m      7\u001b[0m word \u001b[38;5;241m=\u001b[39m \u001b[38;5;28mint\u001b[39m(\u001b[38;5;28minput\u001b[39m(\u001b[38;5;124m'\u001b[39m\u001b[38;5;124mEnter your input: \u001b[39m\u001b[38;5;124m'\u001b[39m))\n\u001b[1;32m----> 8\u001b[0m check_palindrome(word)\n",
      "\u001b[1;31mTypeError\u001b[0m: check_palindrome() takes 0 positional arguments but 1 was given"
     ]
    }
   ],
   "source": [
    "def check_palindrome():\n",
    "    \n",
    "    if word == word[::-1]:\n",
    "        print(f'{word} is a palindrome.')\n",
    "    else:\n",
    "        print(f'{word} is not a palindrome.')\n",
    "word = int(input('Enter your input: '))\n",
    "check_palindrome(word)"
   ]
  },
  {
   "cell_type": "code",
   "execution_count": 26,
   "id": "5f7e5063-2ed4-4b44-b1ae-7bc372f70e82",
   "metadata": {},
   "outputs": [
    {
     "ename": "TypeError",
     "evalue": "check_palindrome() takes 0 positional arguments but 1 was given",
     "output_type": "error",
     "traceback": [
      "\u001b[1;31m---------------------------------------------------------------------------\u001b[0m",
      "\u001b[1;31mTypeError\u001b[0m                                 Traceback (most recent call last)",
      "Cell \u001b[1;32mIn[26], line 1\u001b[0m\n\u001b[1;32m----> 1\u001b[0m check_palindrome(\u001b[38;5;124m'\u001b[39m\u001b[38;5;124mrohan\u001b[39m\u001b[38;5;124m'\u001b[39m)\n",
      "\u001b[1;31mTypeError\u001b[0m: check_palindrome() takes 0 positional arguments but 1 was given"
     ]
    }
   ],
   "source": [
    "check_palindrome('rohan')"
   ]
  },
  {
   "cell_type": "code",
   "execution_count": 18,
   "id": "e921510a-f0ce-4b67-b767-b07e759f57da",
   "metadata": {},
   "outputs": [
    {
     "ename": "AttributeError",
     "evalue": "'int' object has no attribute 'upper'",
     "output_type": "error",
     "traceback": [
      "\u001b[1;31m---------------------------------------------------------------------------\u001b[0m",
      "\u001b[1;31mAttributeError\u001b[0m                            Traceback (most recent call last)",
      "Cell \u001b[1;32mIn[18], line 1\u001b[0m\n\u001b[1;32m----> 1\u001b[0m check_palindrome(\u001b[38;5;241m12121\u001b[39m)\n",
      "Cell \u001b[1;32mIn[15], line 2\u001b[0m, in \u001b[0;36mcheck_palindrome\u001b[1;34m(word)\u001b[0m\n\u001b[0;32m      1\u001b[0m \u001b[38;5;28;01mdef\u001b[39;00m\u001b[38;5;250m \u001b[39m\u001b[38;5;21mcheck_palindrome\u001b[39m(word):\n\u001b[1;32m----> 2\u001b[0m     word \u001b[38;5;241m=\u001b[39m word\u001b[38;5;241m.\u001b[39mupper()\n\u001b[0;32m      3\u001b[0m     \u001b[38;5;28;01mif\u001b[39;00m word \u001b[38;5;241m==\u001b[39m word[::\u001b[38;5;241m-\u001b[39m\u001b[38;5;241m1\u001b[39m]:\n\u001b[0;32m      4\u001b[0m         \u001b[38;5;28mprint\u001b[39m(\u001b[38;5;124mf\u001b[39m\u001b[38;5;124m'\u001b[39m\u001b[38;5;132;01m{\u001b[39;00mword\u001b[38;5;132;01m}\u001b[39;00m\u001b[38;5;124m is a palindrome.\u001b[39m\u001b[38;5;124m'\u001b[39m)\n",
      "\u001b[1;31mAttributeError\u001b[0m: 'int' object has no attribute 'upper'"
     ]
    }
   ],
   "source": [
    "check_palindrome(12121)\n"
   ]
  },
  {
   "cell_type": "code",
   "execution_count": 20,
   "id": "2fab03fc-27e6-4039-b6ac-ba2f1c955b8d",
   "metadata": {},
   "outputs": [
    {
     "name": "stdout",
     "output_type": "stream",
     "text": [
      "123\n"
     ]
    }
   ],
   "source": [
    "a:str = 123\n",
    "print(a)"
   ]
  },
  {
   "cell_type": "code",
   "execution_count": 39,
   "id": "f63cf3f7-a4da-462c-ac45-3122ce033c56",
   "metadata": {},
   "outputs": [
    {
     "name": "stdin",
     "output_type": "stream",
     "text": [
      "Enter a number:  9\n"
     ]
    },
    {
     "data": {
      "text/plain": [
       "[0, 1, 1, 2, 3, 5, 8, 13, 21]"
      ]
     },
     "execution_count": 39,
     "metadata": {},
     "output_type": "execute_result"
    }
   ],
   "source": [
    "def give_fib(n):\n",
    "    fib = [0,1]\n",
    "    for i in range(n-2):\n",
    "        last_num = fib[-1]\n",
    "        second_last_num = fib[-2]\n",
    "        next_num = last_num + second_last_num\n",
    "        fib.append(next_num)\n",
    "    return fib\n",
    "n = int(input('Enter a number: '))\n",
    "give_fib(n)"
   ]
  },
  {
   "cell_type": "code",
   "execution_count": 52,
   "id": "cfdd75ff-c850-4f50-bb36-8468631b4fe4",
   "metadata": {},
   "outputs": [
    {
     "name": "stdin",
     "output_type": "stream",
     "text": [
      "Enter your number:  13\n"
     ]
    },
    {
     "data": {
      "text/plain": [
       "'prime'"
      ]
     },
     "execution_count": 52,
     "metadata": {},
     "output_type": "execute_result"
    }
   ],
   "source": [
    "def prime(n):\n",
    "    for i in range(2,n):\n",
    "        if (n%i==0):\n",
    "            return 'composite'\n",
    "            break\n",
    "    else:\n",
    "        return 'prime'\n",
    "        \n",
    "n = int(input('Enter your number: '))\n",
    "prime(n)\n",
    "    \n",
    "    "
   ]
  },
  {
   "cell_type": "code",
   "execution_count": 56,
   "id": "ec887b3f-788d-4c34-b6e1-a0a01a4e8004",
   "metadata": {},
   "outputs": [
    {
     "ename": "TypeError",
     "evalue": "can't multiply sequence by non-int of type 'float'",
     "output_type": "error",
     "traceback": [
      "\u001b[1;31m---------------------------------------------------------------------------\u001b[0m",
      "\u001b[1;31mTypeError\u001b[0m                                 Traceback (most recent call last)",
      "Cell \u001b[1;32mIn[56], line 2\u001b[0m\n\u001b[0;32m      1\u001b[0m n \u001b[38;5;241m=\u001b[39m \u001b[38;5;241m5.0\u001b[39m\n\u001b[1;32m----> 2\u001b[0m \u001b[38;5;28mprint\u001b[39m(\u001b[38;5;124m'\u001b[39m\u001b[38;5;124mHello\u001b[39m\u001b[38;5;124m'\u001b[39m\u001b[38;5;241m*\u001b[39mn)\n",
      "\u001b[1;31mTypeError\u001b[0m: can't multiply sequence by non-int of type 'float'"
     ]
    }
   ],
   "source": [
    "n = 5.0\n",
    "print('Hello'*n)"
   ]
  },
  {
   "cell_type": "code",
   "execution_count": 81,
   "id": "52dcddac-4717-4425-a931-e45919a2693d",
   "metadata": {},
   "outputs": [
    {
     "name": "stdout",
     "output_type": "stream",
     "text": [
      "     * \n",
      "    * * \n",
      "   * * * \n",
      "  * * * * \n",
      " * * * * * \n",
      "* * * * * * \n"
     ]
    }
   ],
   "source": [
    "n=6\n",
    "\n",
    "for i in range(1,n+1):\n",
    "    print(' '*(n-i)+i*'* ')\n",
    "    "
   ]
  },
  {
   "cell_type": "code",
   "execution_count": 101,
   "id": "4defd365-a938-4257-b3e0-9c09f7a5bd85",
   "metadata": {
    "collapsed": true,
    "jupyter": {
     "outputs_hidden": true
    }
   },
   "outputs": [
    {
     "name": "stdin",
     "output_type": "stream",
     "text": [
      "Enter your shape:  9\n",
      "Enter type(Left,Right,Center):  center\n",
      "Enter number of stars:  9\n"
     ]
    },
    {
     "name": "stdout",
     "output_type": "stream",
     "text": [
      "        9 \n",
      "       9 9 \n",
      "      9 9 9 \n",
      "     9 9 9 9 \n",
      "    9 9 9 9 9 \n",
      "   9 9 9 9 9 9 \n",
      "  9 9 9 9 9 9 9 \n",
      " 9 9 9 9 9 9 9 9 \n",
      "9 9 9 9 9 9 9 9 9 \n"
     ]
    }
   ],
   "source": [
    "def pattern(shape='* ',star=5,direct='Left'):\n",
    "    \n",
    "    if direct == 'LEFT':\n",
    "        for i in range(1,n+1):\n",
    "            print(''*(n-i)+i*f'{shape} ' )\n",
    "    elif direct == 'RIGHT':\n",
    "        for i in range(1,n+1):\n",
    "            print('  '*(n-i)+i*f'{shape} ' )\n",
    "    elif direct == 'CENTER':\n",
    "        for i in range(1,n+1):\n",
    "            print(' '*(n-i)+i*f'{shape} ' )\n",
    "shape = input('Enter your shape: ')\n",
    "\n",
    "direct = input('Enter type(Left,Right,Center): ')\n",
    "star = int(input('Enter number of stars: '))\n",
    "n= star\n",
    "direct=direct.upper()\n",
    "pattern(shape,star,direct)"
   ]
  },
  {
   "cell_type": "code",
   "execution_count": null,
   "id": "ad989f18-51f6-4845-b0e9-eb55653e7577",
   "metadata": {},
   "outputs": [],
   "source": [
    "def total_sales(*args):\n",
    "    print(args)\n",
    "    \n",
    "    "
   ]
  },
  {
   "cell_type": "code",
   "execution_count": null,
   "id": "83f5528c-1b57-4f67-9f2f-41996346b021",
   "metadata": {},
   "outputs": [],
   "source": []
  }
 ],
 "metadata": {
  "kernelspec": {
   "display_name": "Python [conda env:base] *",
   "language": "python",
   "name": "conda-base-py"
  },
  "language_info": {
   "codemirror_mode": {
    "name": "ipython",
    "version": 3
   },
   "file_extension": ".py",
   "mimetype": "text/x-python",
   "name": "python",
   "nbconvert_exporter": "python",
   "pygments_lexer": "ipython3",
   "version": "3.13.5"
  }
 },
 "nbformat": 4,
 "nbformat_minor": 5
}
